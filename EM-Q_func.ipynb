{
 "cells": [
  {
   "cell_type": "code",
   "execution_count": 1,
   "id": "606f2065-e167-475b-9ce0-7c6a351228d6",
   "metadata": {},
   "outputs": [],
   "source": [
    "import numpy as np\n",
    "import math"
   ]
  },
  {
   "cell_type": "code",
   "execution_count": 43,
   "id": "518feb81-eb5f-40ee-9f80-697d0214d038",
   "metadata": {},
   "outputs": [],
   "source": [
    "class EM:\n",
    "    def __init__(self,theta,y):\n",
    "        self.theta = theta\n",
    "        self.y = y\n",
    "        self.N = len(self.y)\n",
    "        self.μ = [0]*self.N\n",
    "        print('init π = {:.3f} ; p = {:.3f} ; q = {:.3f}'.format(theta[0],theta[1],theta[2]))\n",
    "    def Estep(self): #E步:计算模型在参数theta(i) 下观测数据yj 来自硬币B的概率 P(B|yj) \n",
    "        for j in range(self.N):\n",
    "            yj = self.y[j]\n",
    "            π,p,q = self.theta\n",
    "            P_B_yj = π * math.pow(p,yj) *math.pow((1-p),1-yj)\n",
    "            P_C_yj = (1-π) * math.pow(q,yj) *math.pow((1-q),1-yj)\n",
    "            \n",
    "            self.μ[j] = P_B_yj/(P_B_yj + P_C_yj) \n",
    "    def Mstep(self): # M步，计算模型参数的更新估计值\n",
    "        sum_μ,sum_yj,sum_μ_yj = 0,0,0\n",
    "        for j in range(self.N):\n",
    "            sum_μ +=  self.μ[j]\n",
    "            sum_yj += self.y[j]\n",
    "            sum_μ_yj += self.μ[j] * self.y[j]\n",
    "        #更新 π, p , q\n",
    "        self.theta[0] = sum_μ / self.N\n",
    "        self.theta[1] = sum_μ_yj / sum_μ\n",
    "        self.theta[2] = (sum_yj - sum_μ_yj) / (self.N - sum_μ)\n",
    "    def em(self):\n",
    "        iter =1\n",
    "        while True:\n",
    "            delta = self.theta.copy()\n",
    "            self.Estep()\n",
    "            self.Mstep()\n",
    "            print('iter:{} \\n π = {:.3f} ; p = {:.3f} ; q = {:.3f}'.format(iter,self.theta[0],self.theta[1],self.theta[2]))\n",
    "            iter += 1\n",
    "            #退出条件，theta 变化量二范数小于阈值\n",
    "            delta -= self.theta \n",
    "            if np.linalg.norm(delta) < 0.005:\n",
    "                print('')\n",
    "                break"
   ]
  },
  {
   "cell_type": "code",
   "execution_count": 41,
   "id": "a0508ca3-73e2-4c7d-b33a-4c5df7badcd3",
   "metadata": {},
   "outputs": [
    {
     "name": "stdout",
     "output_type": "stream",
     "text": [
      "init π = 0.500 ; p = 0.500 ; q = 0.500\n",
      "iter:1 \n",
      " π = 0.500 ; p = 0.600 ; q = 0.600\n",
      "iter:2 \n",
      " π = 0.500 ; p = 0.600 ; q = 0.600\n",
      "\n"
     ]
    }
   ],
   "source": [
    "data = [1,1,0,1,0,0,1,0,1,1]\n",
    "test1 = EM(np.array([0.5,0.5,0.5]),data)\n",
    "test1.em()"
   ]
  },
  {
   "cell_type": "code",
   "execution_count": 46,
   "id": "f4dab1eb-7584-4cb8-863b-392d94a41795",
   "metadata": {},
   "outputs": [
    {
     "name": "stdout",
     "output_type": "stream",
     "text": [
      "init π = 0.400 ; p = 0.600 ; q = 0.700\n",
      "iter:1 \n",
      " π = 0.406 ; p = 0.537 ; q = 0.643\n",
      "iter:2 \n",
      " π = 0.406 ; p = 0.537 ; q = 0.643\n",
      "\n"
     ]
    }
   ],
   "source": [
    "test2 = EM(np.array([0.4,0.6,0.7]),data)\n",
    "test2.em()"
   ]
  },
  {
   "cell_type": "code",
   "execution_count": null,
   "id": "64e4f56a-4a15-4448-bd7c-fdbb45ef3e24",
   "metadata": {},
   "outputs": [],
   "source": []
  }
 ],
 "metadata": {
  "kernelspec": {
   "display_name": "Python 3 (ipykernel)",
   "language": "python",
   "name": "python3"
  },
  "language_info": {
   "codemirror_mode": {
    "name": "ipython",
    "version": 3
   },
   "file_extension": ".py",
   "mimetype": "text/x-python",
   "name": "python",
   "nbconvert_exporter": "python",
   "pygments_lexer": "ipython3",
   "version": "3.11.7"
  }
 },
 "nbformat": 4,
 "nbformat_minor": 5
}
